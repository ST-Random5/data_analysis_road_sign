{
  "nbformat": 4,
  "nbformat_minor": 0,
  "metadata": {
    "colab": {
      "name": "day5.ipynb",
      "provenance": [],
      "mount_file_id": "17o_dNb4jV7vI3hB4LJ1yFZmTvtAFlwH1",
      "authorship_tag": "ABX9TyN6Fw/py0epMfg2TOXMnfNY",
      "include_colab_link": true
    },
    "kernelspec": {
      "name": "python3",
      "display_name": "Python 3"
    },
    "accelerator": "GPU"
  },
  "cells": [
    {
      "cell_type": "markdown",
      "metadata": {
        "id": "view-in-github",
        "colab_type": "text"
      },
      "source": [
        "<a href=\"https://colab.research.google.com/github/ST-Random5/data_analysis_road_sign/blob/master/day5.ipynb\" target=\"_parent\"><img src=\"https://colab.research.google.com/assets/colab-badge.svg\" alt=\"Open In Colab\"/></a>"
      ]
    },
    {
      "cell_type": "code",
      "metadata": {
        "id": "QotWPfIrKgaP",
        "colab_type": "code",
        "colab": {
          "base_uri": "https://localhost:8080/",
          "height": 170
        },
        "outputId": "cdbeb84e-13cc-4056-ea9e-443617de4471"
      },
      "source": [
        "!pip install hyperopt"
      ],
      "execution_count": 1,
      "outputs": [
        {
          "output_type": "stream",
          "text": [
            "Requirement already satisfied: hyperopt in /usr/local/lib/python3.6/dist-packages (0.1.2)\n",
            "Requirement already satisfied: tqdm in /usr/local/lib/python3.6/dist-packages (from hyperopt) (4.38.0)\n",
            "Requirement already satisfied: networkx in /usr/local/lib/python3.6/dist-packages (from hyperopt) (2.4)\n",
            "Requirement already satisfied: scipy in /usr/local/lib/python3.6/dist-packages (from hyperopt) (1.4.1)\n",
            "Requirement already satisfied: pymongo in /usr/local/lib/python3.6/dist-packages (from hyperopt) (3.10.1)\n",
            "Requirement already satisfied: future in /usr/local/lib/python3.6/dist-packages (from hyperopt) (0.16.0)\n",
            "Requirement already satisfied: six in /usr/local/lib/python3.6/dist-packages (from hyperopt) (1.12.0)\n",
            "Requirement already satisfied: numpy in /usr/local/lib/python3.6/dist-packages (from hyperopt) (1.18.2)\n",
            "Requirement already satisfied: decorator>=4.3.0 in /usr/local/lib/python3.6/dist-packages (from networkx->hyperopt) (4.4.2)\n"
          ],
          "name": "stdout"
        }
      ]
    },
    {
      "cell_type": "code",
      "metadata": {
        "id": "YNjig8S-K2j3",
        "colab_type": "code",
        "colab": {
          "base_uri": "https://localhost:8080/",
          "height": 51
        },
        "outputId": "43554a09-2ca7-4a7c-b492-7e6f6d09a5b2"
      },
      "source": [
        "import pandas as pd\n",
        "import numpy as np\n",
        "import tensorflow as tf\n",
        "from tensorflow.keras.models import Sequential\n",
        "from tensorflow.keras.layers import Conv2D, MaxPool2D, Dense, Flatten, Dropout\n",
        "from tensorflow.keras.utils import to_categorical\n",
        "%load_ext tensorboard\n",
        "\n",
        "import os\n",
        "import datetime\n",
        "\n",
        "import matplotlib.pyplot as plt\n",
        "from skimage import color, exposure\n",
        "\n",
        "from sklearn.metrics import accuracy_score\n",
        "\n",
        "from hyperopt import hp, STATUS_OK, tpe, Trials, fmin"
      ],
      "execution_count": 17,
      "outputs": [
        {
          "output_type": "stream",
          "text": [
            "The tensorboard extension is already loaded. To reload it, use:\n",
            "  %reload_ext tensorboard\n"
          ],
          "name": "stdout"
        }
      ]
    },
    {
      "cell_type": "code",
      "metadata": {
        "id": "ZKZbzJf3LA6l",
        "colab_type": "code",
        "colab": {
          "base_uri": "https://localhost:8080/",
          "height": 34
        },
        "outputId": "af1beaf5-9fef-49f3-e41f-10fa60545563"
      },
      "source": [
        "cd '/content/drive/My Drive/Colab Notebooks/matrix/matrix_three/data/data_analysis_road_sign'"
      ],
      "execution_count": 4,
      "outputs": [
        {
          "output_type": "stream",
          "text": [
            "/content/drive/My Drive/Colab Notebooks/matrix/matrix_three/data/data_analysis_road_sign\n"
          ],
          "name": "stdout"
        }
      ]
    },
    {
      "cell_type": "code",
      "metadata": {
        "id": "Bx3ofN3pLFvF",
        "colab_type": "code",
        "colab": {}
      },
      "source": [
        "train = pd.read_pickle('data/train.p')\n",
        "test = pd.read_pickle('data/test.p')\n",
        "\n",
        "X_train, y_train = train['features'], train['labels']\n",
        "X_test, y_test = test['features'], test['labels']"
      ],
      "execution_count": 0,
      "outputs": []
    },
    {
      "cell_type": "code",
      "metadata": {
        "id": "EbO9aFKCLK0H",
        "colab_type": "code",
        "colab": {}
      },
      "source": [
        "if y_train.ndim ==1 : y_train= to_categorical(y_train)\n",
        "if y_test.ndim ==1 : y_test= to_categorical(y_test)"
      ],
      "execution_count": 0,
      "outputs": []
    },
    {
      "cell_type": "code",
      "metadata": {
        "id": "WsWs-iGiLcfF",
        "colab_type": "code",
        "colab": {}
      },
      "source": [
        "input_shape = X_train.shape[1:]\n",
        "num_classess = y_train.shape[1]\n",
        "\n"
      ],
      "execution_count": 0,
      "outputs": []
    },
    {
      "cell_type": "code",
      "metadata": {
        "id": "QeozybScLkQc",
        "colab_type": "code",
        "colab": {}
      },
      "source": [
        "def train_model(X_train, y_train, model, params_fit={}):\n",
        "  \n",
        "  model.compile(loss='categorical_crossentropy', optimizer='Adam', metrics=['accuracy'])\n",
        "\n",
        "  logdir=os.path.join(\"logs\",datetime.datetime.now().strftime(\"%Y%m%d-%H%M%S\"))\n",
        "  tensorboard_callback=tf.keras.callbacks.TensorBoard(logdir, histogram_freq=1)\n",
        "\n",
        "  model.fit(\n",
        "      X_train, \n",
        "      y_train,\n",
        "      batch_size=params_fit.get('batch_size',128),\n",
        "      epochs = params_fit.get('epochs',5),\n",
        "      verbose=params_fit.get('verbose',1),\n",
        "      validation_data=params_fit.get('validation_data', (X_train, y_train)),\n",
        "      callbacks=[tensorboard_callback]\n",
        "      )\n",
        "  \n",
        "  return model"
      ],
      "execution_count": 0,
      "outputs": []
    },
    {
      "cell_type": "code",
      "metadata": {
        "id": "SASD5K9xLmpM",
        "colab_type": "code",
        "colab": {}
      },
      "source": [
        "def predict(model_trained, X_test, y_test, scoring=accuracy_score):\n",
        "  y_test_norm = np.argmax(y_test, axis=1)\n",
        "  \n",
        "  y_pred_prob = model_trained.predict(X_test)\n",
        "  y_pred=np.argmax(y_pred_prob, axis=1)\n",
        "  \n",
        "\n",
        "  return scoring(y_test_norm, y_pred)"
      ],
      "execution_count": 0,
      "outputs": []
    },
    {
      "cell_type": "code",
      "metadata": {
        "id": "eAmb05lnL6Zp",
        "colab_type": "code",
        "colab": {}
      },
      "source": [
        "def get_cnn_v5(input_shape, num_classess):\n",
        "  return Sequential([\n",
        "                    Conv2D(filters=64, kernel_size=(3,3), activation='relu', input_shape = input_shape),\n",
        "                    Conv2D(filters=64, kernel_size=(3,3), activation='relu', padding='same'),\n",
        "                    MaxPool2D(),\n",
        "                    Dropout(0.3),\n",
        "\n",
        "                    Conv2D(filters=64, kernel_size=(3,3), activation='relu', padding='same'),\n",
        "                    Conv2D(filters=64, kernel_size=(3,3), activation='relu'),\n",
        "                    MaxPool2D(),\n",
        "                    Dropout(0.1),\n",
        "\n",
        "                    Conv2D(filters=64, kernel_size=(3,3), activation='relu', padding='same'),\n",
        "                    Conv2D(filters=64, kernel_size=(3,3), activation='relu'),\n",
        "                    MaxPool2D(),\n",
        "                    Dropout(0.1), \n",
        "\n",
        "\n",
        "\n",
        "\n",
        "                    Flatten(),\n",
        "\n",
        "                    Dense(1024, activation='relu'),\n",
        "                    Dropout(0.3),\n",
        "                     \n",
        "                    Dense(1024, activation='relu'),\n",
        "                    Dropout(0.3),\n",
        "                     \n",
        "                    Dense(num_classess, activation='softmax'),\n",
        "])"
      ],
      "execution_count": 0,
      "outputs": []
    },
    {
      "cell_type": "code",
      "metadata": {
        "id": "AMDXxpN1O5vf",
        "colab_type": "code",
        "colab": {}
      },
      "source": [
        "def get_model(params):\n",
        "  return Sequential([\n",
        "                    Conv2D(filters=64, kernel_size=(3,3), activation='relu', input_shape = input_shape),\n",
        "                    Conv2D(filters=64, kernel_size=(3,3), activation='relu', padding='same'),\n",
        "                    MaxPool2D(),\n",
        "                    Dropout(params['dropout_cnn_block_one']),\n",
        "\n",
        "                    Conv2D(filters=64, kernel_size=(3,3), activation='relu', padding='same'),\n",
        "                    Conv2D(filters=64, kernel_size=(3,3), activation='relu'),\n",
        "                    MaxPool2D(),\n",
        "                    Dropout(params['dropout_cnn_block_two']),\n",
        "\n",
        "                    Conv2D(filters=64, kernel_size=(3,3), activation='relu', padding='same'),\n",
        "                    Conv2D(filters=64, kernel_size=(3,3), activation='relu'),\n",
        "                    MaxPool2D(),\n",
        "                    Dropout(params['dropout_cnn_block_three']), \n",
        "\n",
        "\n",
        "\n",
        "\n",
        "                    Flatten(),\n",
        "\n",
        "                    Dense(1024, activation='relu'),\n",
        "                    Dropout(params['dropout_cnn_block_one']),\n",
        "                     \n",
        "                    Dense(1024, activation='relu'),\n",
        "                    Dropout(params['dropout_cnn_block_two']),\n",
        "                     \n",
        "                    Dense(num_classess, activation='softmax'),\n",
        "])"
      ],
      "execution_count": 0,
      "outputs": []
    },
    {
      "cell_type": "code",
      "metadata": {
        "id": "yplJh2dsMhcb",
        "colab_type": "code",
        "colab": {}
      },
      "source": [
        "def func_obj(params):\n",
        " model=get_model(params)\n",
        " model.compile(loss='categorical_crossentropy', optimizer='Adam', metrics=['accuracy'])\n",
        " model.fit(\n",
        "      X_train, \n",
        "      y_train,\n",
        "      batch_size=128, #int(params.get('batch_size',128)),\n",
        "      epochs = 5,\n",
        "      verbose=0\n",
        "      )\n",
        "  \n",
        " score = model.evaluate(X_test,y_test, verbose=0)\n",
        " accuracy=score[1]\n",
        " print(params, 'accuracy={}'.format(accuracy))\n",
        " return {'loss':-accuracy, 'status': STATUS_OK, 'model':model}\n",
        "\n"
      ],
      "execution_count": 0,
      "outputs": []
    },
    {
      "cell_type": "code",
      "metadata": {
        "id": "2woniBeCMCVI",
        "colab_type": "code",
        "colab": {
          "base_uri": "https://localhost:8080/",
          "height": 221
        },
        "outputId": "5bd6ba35-856c-47f6-ccb5-95033e99e906"
      },
      "source": [
        "model=get_cnn_v5(input_shape, num_classess)\n",
        "model_trained=train_model(X_train, y_train, model)\n",
        "\n",
        "predict(model_trained, X_test, y_test)"
      ],
      "execution_count": 33,
      "outputs": [
        {
          "output_type": "stream",
          "text": [
            "Epoch 1/5\n",
            " 2/35 [>.............................] - ETA: 25s - loss: 7.8340 - accuracy: 0.0469WARNING:tensorflow:Method (on_train_batch_end) is slow compared to the batch update (0.779761). Check your callbacks.\n",
            "35/35 [==============================] - 2s 69ms/step - loss: 3.8103 - accuracy: 0.0703 - val_loss: 3.3336 - val_accuracy: 0.1415\n",
            "Epoch 2/5\n",
            "35/35 [==============================] - 1s 20ms/step - loss: 2.9978 - accuracy: 0.2052 - val_loss: 2.3371 - val_accuracy: 0.3717\n",
            "Epoch 3/5\n",
            "35/35 [==============================] - 1s 20ms/step - loss: 2.1382 - accuracy: 0.3889 - val_loss: 1.4430 - val_accuracy: 0.5859\n",
            "Epoch 4/5\n",
            "35/35 [==============================] - 1s 20ms/step - loss: 1.6196 - accuracy: 0.5073 - val_loss: 1.1033 - val_accuracy: 0.7036\n",
            "Epoch 5/5\n",
            "35/35 [==============================] - 1s 20ms/step - loss: 1.1749 - accuracy: 0.6351 - val_loss: 0.8070 - val_accuracy: 0.7889\n"
          ],
          "name": "stdout"
        },
        {
          "output_type": "execute_result",
          "data": {
            "text/plain": [
              "0.7888888888888889"
            ]
          },
          "metadata": {
            "tags": []
          },
          "execution_count": 33
        }
      ]
    },
    {
      "cell_type": "code",
      "metadata": {
        "id": "tGoYqNcZN5Cj",
        "colab_type": "code",
        "colab": {
          "base_uri": "https://localhost:8080/",
          "height": 1000
        },
        "outputId": "a188b6d4-23aa-41a0-f86f-ff042684ad32"
      },
      "source": [
        "space={\n",
        "    'batch_size': hp.quniform('batch_size', 100, 200, 10),\n",
        "    'dropout_cnn_block_one': hp.uniform('dropout_cnn_block_one',0.3, 0.5),\n",
        "    'dropout_cnn_block_two': hp.uniform('dropout_cnn_block_two',0.3, 0.5),\n",
        "    'dropout_cnn_block_three': hp.uniform('dropout_cnn_block_three',0.3, 0.5),\n",
        "\n",
        "    'dropout_cnn_block_one': hp.uniform('dropout_cnn_block_one',0.3, 0.7),\n",
        "    'dropout_cnn_block_two': hp.uniform('dropout_cnn_block_two',0.3, 0.7)\n",
        "}\n",
        "\n",
        "best=fmin(\n",
        "    func_obj,\n",
        "    space,\n",
        "    tpe.suggest,\n",
        "    50,\n",
        "    Trials()\n",
        ")\n"
      ],
      "execution_count": 36,
      "outputs": [
        {
          "output_type": "stream",
          "text": [
            "{'batch_size': 160.0, 'dropout_cnn_block_one': 0.5393825793500211, 'dropout_cnn_block_three': 0.3617147605292576, 'dropout_cnn_block_two': 0.3135114568185464}\n",
            "accuracy=0.2566893398761749\n",
            "{'batch_size': 170.0, 'dropout_cnn_block_one': 0.5256473768739368, 'dropout_cnn_block_three': 0.4284531267124002, 'dropout_cnn_block_two': 0.3542325688469514}\n",
            "accuracy=0.30725622177124023\n",
            "{'batch_size': 190.0, 'dropout_cnn_block_one': 0.3010779707400095, 'dropout_cnn_block_three': 0.4940996459161374, 'dropout_cnn_block_two': 0.5753554113541967}\n",
            "accuracy=0.2142857164144516\n",
            "{'batch_size': 140.0, 'dropout_cnn_block_one': 0.392060967937939, 'dropout_cnn_block_three': 0.44181433477602616, 'dropout_cnn_block_two': 0.32663434280980047}\n",
            "accuracy=0.3473922908306122\n",
            "{'batch_size': 200.0, 'dropout_cnn_block_one': 0.33007531812860824, 'dropout_cnn_block_three': 0.4101320712906132, 'dropout_cnn_block_two': 0.4101212049406441}\n",
            "accuracy=0.46462586522102356\n",
            "{'batch_size': 140.0, 'dropout_cnn_block_one': 0.40021928304077353, 'dropout_cnn_block_three': 0.3605740821020778, 'dropout_cnn_block_two': 0.46281122624137094}\n",
            "accuracy=0.3965986371040344\n",
            "{'batch_size': 190.0, 'dropout_cnn_block_one': 0.488433327854881, 'dropout_cnn_block_three': 0.30012779311458515, 'dropout_cnn_block_two': 0.548423743488727}\n",
            "accuracy=0.2963718771934509\n",
            "{'batch_size': 190.0, 'dropout_cnn_block_one': 0.661690271875992, 'dropout_cnn_block_three': 0.4969491615583512, 'dropout_cnn_block_two': 0.5172819670121926}\n",
            "accuracy=0.17233559489250183\n",
            "{'batch_size': 120.0, 'dropout_cnn_block_one': 0.6728886753485923, 'dropout_cnn_block_three': 0.47746386838760424, 'dropout_cnn_block_two': 0.6901597042930058}\n",
            "accuracy=0.0734693855047226\n",
            "{'batch_size': 140.0, 'dropout_cnn_block_one': 0.4234406645006079, 'dropout_cnn_block_three': 0.35463717774609993, 'dropout_cnn_block_two': 0.4229258274143346}\n",
            "accuracy=0.3841269910335541\n",
            "{'batch_size': 190.0, 'dropout_cnn_block_one': 0.4209567352775134, 'dropout_cnn_block_three': 0.327091046148494, 'dropout_cnn_block_two': 0.6439047054401603}\n",
            "accuracy=0.09410430490970612\n",
            "{'batch_size': 150.0, 'dropout_cnn_block_one': 0.5428576088000115, 'dropout_cnn_block_three': 0.3963001667461317, 'dropout_cnn_block_two': 0.49139701580345646}\n",
            "accuracy=0.15396825969219208\n",
            "{'batch_size': 170.0, 'dropout_cnn_block_one': 0.6469899558971939, 'dropout_cnn_block_three': 0.4096250991249872, 'dropout_cnn_block_two': 0.5391771090813459}\n",
            "accuracy=0.1628117859363556\n",
            "{'batch_size': 110.0, 'dropout_cnn_block_one': 0.38725914675072654, 'dropout_cnn_block_three': 0.3523880914889842, 'dropout_cnn_block_two': 0.42866517538098114}\n",
            "accuracy=0.2895691692829132\n",
            "{'batch_size': 120.0, 'dropout_cnn_block_one': 0.5989266713092611, 'dropout_cnn_block_three': 0.30543630554382983, 'dropout_cnn_block_two': 0.4784043686013363}\n",
            "accuracy=0.2260770946741104\n",
            "{'batch_size': 150.0, 'dropout_cnn_block_one': 0.5842518240115682, 'dropout_cnn_block_three': 0.3240529473894056, 'dropout_cnn_block_two': 0.5314938173508948}\n",
            "accuracy=0.16507937014102936\n",
            "{'batch_size': 140.0, 'dropout_cnn_block_one': 0.4761894831358868, 'dropout_cnn_block_three': 0.4236804720214415, 'dropout_cnn_block_two': 0.6444775079235545}\n",
            "accuracy=0.16349206864833832\n",
            "{'batch_size': 160.0, 'dropout_cnn_block_one': 0.314168848669035, 'dropout_cnn_block_three': 0.4651475215751986, 'dropout_cnn_block_two': 0.37056753991664526}\n",
            "accuracy=0.39727890491485596\n",
            "{'batch_size': 200.0, 'dropout_cnn_block_one': 0.5811643994698514, 'dropout_cnn_block_three': 0.3243414056996907, 'dropout_cnn_block_two': 0.4102737369922813}\n",
            "accuracy=0.2630385458469391\n",
            "{'batch_size': 140.0, 'dropout_cnn_block_one': 0.3213536775562255, 'dropout_cnn_block_three': 0.39841826369182787, 'dropout_cnn_block_two': 0.4775181567105169}\n",
            "accuracy=0.32675737142562866\n",
            "{'batch_size': 170.0, 'dropout_cnn_block_one': 0.34341971117769843, 'dropout_cnn_block_three': 0.4625716354359267, 'dropout_cnn_block_two': 0.3730055162346428}\n",
            "accuracy=0.3938775658607483\n",
            "{'batch_size': 180.0, 'dropout_cnn_block_one': 0.3514361309912534, 'dropout_cnn_block_three': 0.4566384228265998, 'dropout_cnn_block_two': 0.3459125869834798}\n",
            "accuracy=0.36961451172828674\n",
            "{'batch_size': 160.0, 'dropout_cnn_block_one': 0.3066574437461737, 'dropout_cnn_block_three': 0.38525767765459157, 'dropout_cnn_block_two': 0.3898100046795902}\n",
            "accuracy=0.39841270446777344\n",
            "{'batch_size': 180.0, 'dropout_cnn_block_one': 0.45813179614569954, 'dropout_cnn_block_three': 0.3846235195756489, 'dropout_cnn_block_two': 0.3970238884415363}\n",
            "accuracy=0.297732412815094\n",
            "{'batch_size': 100.0, 'dropout_cnn_block_one': 0.3596052225646093, 'dropout_cnn_block_three': 0.38009740788821733, 'dropout_cnn_block_two': 0.44094015655302876}\n",
            "accuracy=0.3233560025691986\n",
            "{'batch_size': 200.0, 'dropout_cnn_block_one': 0.44844661052442497, 'dropout_cnn_block_three': 0.4164474428314879, 'dropout_cnn_block_two': 0.3023166844792794}\n",
            "accuracy=0.36145123839378357\n",
            "{'batch_size': 130.0, 'dropout_cnn_block_one': 0.30310555936847383, 'dropout_cnn_block_three': 0.37595500876241694, 'dropout_cnn_block_two': 0.3905198462303815}\n",
            "accuracy=0.4664399027824402\n",
            "{'batch_size': 120.0, 'dropout_cnn_block_one': 0.36794160116937036, 'dropout_cnn_block_three': 0.33988766172594537, 'dropout_cnn_block_two': 0.4539163000563874}\n",
            "accuracy=0.37755101919174194\n",
            "{'batch_size': 130.0, 'dropout_cnn_block_one': 0.32832838472884146, 'dropout_cnn_block_three': 0.3722688942264643, 'dropout_cnn_block_two': 0.3329986818461843}\n",
            "accuracy=0.49863946437835693\n",
            "{'batch_size': 130.0, 'dropout_cnn_block_one': 0.4385910520923592, 'dropout_cnn_block_three': 0.37223575257455505, 'dropout_cnn_block_two': 0.3010712134132976}\n",
            "accuracy=0.34376418590545654\n",
            "{'batch_size': 100.0, 'dropout_cnn_block_one': 0.5223709829397405, 'dropout_cnn_block_three': 0.3698047534852995, 'dropout_cnn_block_two': 0.3318955313696541}\n",
            "accuracy=0.24535147845745087\n",
            "{'batch_size': 130.0, 'dropout_cnn_block_one': 0.3011483857664937, 'dropout_cnn_block_three': 0.34022913062284343, 'dropout_cnn_block_two': 0.35749873638940605}\n",
            "accuracy=0.3780045211315155\n",
            "{'batch_size': 110.0, 'dropout_cnn_block_one': 0.372117707985262, 'dropout_cnn_block_three': 0.4354842141128197, 'dropout_cnn_block_two': 0.3151040363976003}\n",
            "accuracy=0.49365079402923584\n",
            "{'batch_size': 110.0, 'dropout_cnn_block_one': 0.3865480682086412, 'dropout_cnn_block_three': 0.438115837488263, 'dropout_cnn_block_two': 0.5831179534970903}\n",
            "accuracy=0.16530612111091614\n",
            "{'batch_size': 110.0, 'dropout_cnn_block_one': 0.40600047542939705, 'dropout_cnn_block_three': 0.48332526098873474, 'dropout_cnn_block_two': 0.32107114499456263}\n",
            "accuracy=0.34852609038352966\n",
            "{'batch_size': 100.0, 'dropout_cnn_block_one': 0.3346301202912889, 'dropout_cnn_block_three': 0.44134559833384335, 'dropout_cnn_block_two': 0.3068609637766837}\n",
            "accuracy=0.4532879889011383\n",
            "{'batch_size': 110.0, 'dropout_cnn_block_one': 0.3661049698508829, 'dropout_cnn_block_three': 0.4548849156110765, 'dropout_cnn_block_two': 0.339455635113628}\n",
            "accuracy=0.37369614839553833\n",
            "{'batch_size': 120.0, 'dropout_cnn_block_one': 0.4692458949414528, 'dropout_cnn_block_three': 0.4331328344126082, 'dropout_cnn_block_two': 0.5733255633146346}\n",
            "accuracy=0.23764172196388245\n",
            "{'batch_size': 130.0, 'dropout_cnn_block_one': 0.5060996784410862, 'dropout_cnn_block_three': 0.42349612330186587, 'dropout_cnn_block_two': 0.3203773084160614}\n",
            "accuracy=0.28321996331214905\n",
            "{'batch_size': 120.0, 'dropout_cnn_block_one': 0.42315140284923713, 'dropout_cnn_block_three': 0.3912133689586654, 'dropout_cnn_block_two': 0.3708764129443429}\n",
            "accuracy=0.2854875326156616\n",
            "{'batch_size': 150.0, 'dropout_cnn_block_one': 0.6945533228003625, 'dropout_cnn_block_three': 0.4069145701723702, 'dropout_cnn_block_two': 0.6976787855034038}\n",
            "accuracy=0.07709750533103943\n",
            "{'batch_size': 110.0, 'dropout_cnn_block_one': 0.5482372548984825, 'dropout_cnn_block_three': 0.4502509018573897, 'dropout_cnn_block_two': 0.5009874643996124}\n",
            "accuracy=0.22063492238521576\n",
            "{'batch_size': 140.0, 'dropout_cnn_block_one': 0.3785245740765424, 'dropout_cnn_block_three': 0.4757457384954618, 'dropout_cnn_block_two': 0.6030772239314374}\n",
            "accuracy=0.1895691603422165\n",
            "{'batch_size': 100.0, 'dropout_cnn_block_one': 0.4106312627521174, 'dropout_cnn_block_three': 0.3100737629725272, 'dropout_cnn_block_two': 0.4260784506070042}\n",
            "accuracy=0.39818593859672546\n",
            "{'batch_size': 130.0, 'dropout_cnn_block_one': 0.33100413294048386, 'dropout_cnn_block_three': 0.35639784859808177, 'dropout_cnn_block_two': 0.3595402058524043}\n",
            "accuracy=0.4317460358142853\n",
            "{'batch_size': 120.0, 'dropout_cnn_block_one': 0.5037189452160284, 'dropout_cnn_block_three': 0.34362063735032927, 'dropout_cnn_block_two': 0.5122513023268169}\n",
            "accuracy=0.15396825969219208\n",
            "{'batch_size': 140.0, 'dropout_cnn_block_one': 0.43842092736012217, 'dropout_cnn_block_three': 0.40478065525856133, 'dropout_cnn_block_two': 0.6661631500566105}\n",
            "accuracy=0.18390022218227386\n",
            "{'batch_size': 150.0, 'dropout_cnn_block_one': 0.4004987248295666, 'dropout_cnn_block_three': 0.4888952745849676, 'dropout_cnn_block_two': 0.44576345536770423}\n",
            "accuracy=0.30816325545310974\n",
            "{'batch_size': 160.0, 'dropout_cnn_block_one': 0.6411619348814711, 'dropout_cnn_block_three': 0.4170237459952838, 'dropout_cnn_block_two': 0.410102806146432}\n",
            "accuracy=0.20068027079105377\n",
            "{'batch_size': 110.0, 'dropout_cnn_block_one': 0.5576029575100281, 'dropout_cnn_block_three': 0.348583353660581, 'dropout_cnn_block_two': 0.4801308329761937}\n",
            "accuracy=0.14421768486499786\n",
            "100%|██████████| 50/50 [02:25<00:00,  2.91s/it, best loss: -0.49863946437835693]\n"
          ],
          "name": "stdout"
        }
      ]
    }
  ]
}